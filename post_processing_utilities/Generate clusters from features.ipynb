{
 "cells": [
  {
   "cell_type": "code",
   "execution_count": null,
   "id": "1cfb9f56",
   "metadata": {},
   "outputs": [],
   "source": [
    "from collections import namedtuple\n",
    "from cluster_features import process_features, save_process"
   ]
  },
  {
   "cell_type": "markdown",
   "id": "627bad5b",
   "metadata": {},
   "source": [
    "# Generate clusters from features"
   ]
  },
  {
   "cell_type": "code",
   "execution_count": null,
   "id": "1b74a4bc",
   "metadata": {},
   "outputs": [],
   "source": [
    "Arguments = namedtuple('Arguments', ['features_path',\n",
    "                                     'dimensions',\n",
    "                                     'dim_red_method',\n",
    "                                     'clustering_method',\n",
    "                                     'dbscan_eps',\n",
    "                                     'dbscan_min_samples',\n",
    "                                     'som_m',\n",
    "                                     'som_n',\n",
    "                                     'som_dim',\n",
    "                                     'kmeans_n_clusters',\n",
    "                                     'kmeans_n_init',\n",
    "                                     'output_dir',\n",
    "                                     'subsample_feats'\n",
    "                                    ])\n",
    "\n",
    "args = Arguments(features_path = '/path/to/the/output/features/feat.pth',\n",
    "                 dimensions = 2,\n",
    "                 dim_red_method = 'PCA',\n",
    "                 clustering_method = 'SOM',\n",
    "                 dbscan_eps = 0.5,\n",
    "                 dbscan_min_samples = 30,\n",
    "                 som_m = 5,\n",
    "                 som_n = 4,\n",
    "                 som_dim = 2,\n",
    "                 kmeans_n_clusters = 10,\n",
    "                 kmeans_n_init = 100,\n",
    "                 output_dir = '/path/to/the/output/directory/',\n",
    "                 subsample_feats = None\n",
    "                )"
   ]
  },
  {
   "cell_type": "code",
   "execution_count": null,
   "id": "f9d5070c",
   "metadata": {},
   "outputs": [],
   "source": [
    "(clusters, dim_red_model, scale_model) = process_features(args)\n",
    "if args.output_dir:\n",
    "    save_process(args, clusters, dim_red_model, scale_model)"
   ]
  },
  {
   "cell_type": "code",
   "execution_count": null,
   "id": "1f95bba5",
   "metadata": {},
   "outputs": [],
   "source": []
  }
 ],
 "metadata": {
  "kernelspec": {
   "display_name": "Python 3",
   "language": "python",
   "name": "python3"
  },
  "language_info": {
   "codemirror_mode": {
    "name": "ipython",
    "version": 3
   },
   "file_extension": ".py",
   "mimetype": "text/x-python",
   "name": "python",
   "nbconvert_exporter": "python",
   "pygments_lexer": "ipython3",
   "version": "3.8.10"
  }
 },
 "nbformat": 4,
 "nbformat_minor": 5
}
