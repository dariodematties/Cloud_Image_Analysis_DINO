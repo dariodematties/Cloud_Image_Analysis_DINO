{
 "cells": [
  {
   "cell_type": "code",
   "execution_count": null,
   "id": "0653efb0",
   "metadata": {},
   "outputs": [],
   "source": [
    "import os\n",
    "import numpy as np\n",
    "\n",
    "from PIL import Image\n",
    "\n",
    "%matplotlib widget\n",
    "import matplotlib.pyplot as plt\n",
    "from mpl_toolkits.mplot3d import Axes3D\n",
    "\n",
    "\n",
    "from sklearn.neighbors import KNeighborsClassifier\n",
    "from joblib import dump, load\n",
    "from collections import namedtuple\n",
    "\n",
    "import torch\n",
    "\n",
    "from get_feat_from_image import get_feat_from_image"
   ]
  },
  {
   "cell_type": "markdown",
   "id": "234fb63a",
   "metadata": {},
   "source": [
    "# Get features from individual image"
   ]
  },
  {
   "cell_type": "code",
   "execution_count": null,
   "id": "e0aa8496",
   "metadata": {},
   "outputs": [],
   "source": [
    "Arguments = namedtuple('Arguments', ['arch',\n",
    "                                     'patch_size',\n",
    "                                     'pretrained_weights',\n",
    "                                     'checkpoint_key',\n",
    "                                     'image_path',\n",
    "                                     'image_size',\n",
    "                                     'output_dir',\n",
    "                                     'threshold'\n",
    "                                    ])\n",
    "\n",
    "args = Arguments(arch = 'vit_small',\n",
    "                 patch_size = 16,\n",
    "                 pretrained_weights = '/path/to/the/pretrained/weights/checkpoint.pth',\n",
    "                 checkpoint_key = \"teacher\",\n",
    "                 image_path = '/path/to/the/image.jpg',\n",
    "                 image_size = (1024, 1024),\n",
    "                 output_dir = '/path/to/the/output/directory/',\n",
    "                 threshold = 0.3\n",
    "                )"
   ]
  },
  {
   "cell_type": "code",
   "execution_count": null,
   "id": "2a8e09c2",
   "metadata": {},
   "outputs": [],
   "source": [
    "get_feat_from_image(args)"
   ]
  },
  {
   "cell_type": "code",
   "execution_count": null,
   "id": "45d34cc3",
   "metadata": {},
   "outputs": [],
   "source": [
    "IMAGE_PATH = '/path/to/the/image/created/after/the/model/processing/it/img.png'\n",
    "image = Image.open(args.image_path)\n",
    "plt.imshow(image)"
   ]
  },
  {
   "cell_type": "markdown",
   "id": "41c38f78",
   "metadata": {},
   "source": [
    "# Load dim red model and features from single img\n",
    "\n",
    "Load the dimensionality reduction model saved in order to process the features from the image"
   ]
  },
  {
   "cell_type": "code",
   "execution_count": null,
   "id": "00272fd5",
   "metadata": {},
   "outputs": [],
   "source": [
    "dim_red_model = load('/path/to/the/dim_red_model')\n",
    "scale_model = load('/path/to/the/scale_model')"
   ]
  },
  {
   "cell_type": "markdown",
   "id": "654e02d1",
   "metadata": {},
   "source": [
    "Now load the singular image features!"
   ]
  },
  {
   "cell_type": "code",
   "execution_count": null,
   "id": "d17da25e",
   "metadata": {},
   "outputs": [],
   "source": [
    "single_img_feats = torch.load('/path/to/the/feats.pt',map_location=torch.device('cpu'))\n",
    "single_img_feats = scale_model.transform(single_img_feats)"
   ]
  },
  {
   "cell_type": "code",
   "execution_count": null,
   "id": "1e9aa4a3",
   "metadata": {},
   "outputs": [],
   "source": [
    "single_img_feats.shape"
   ]
  },
  {
   "cell_type": "markdown",
   "id": "9ef320c5",
   "metadata": {},
   "source": [
    "Now reduce the features dimensionality"
   ]
  },
  {
   "cell_type": "code",
   "execution_count": null,
   "id": "d76ac28d",
   "metadata": {},
   "outputs": [],
   "source": [
    "singular_sample = dim_red_model.transform(single_img_feats)\n",
    "singular_sample.shape"
   ]
  },
  {
   "cell_type": "markdown",
   "id": "d3601172",
   "metadata": {},
   "source": [
    "## Load the clusters generated from the features"
   ]
  },
  {
   "cell_type": "code",
   "execution_count": null,
   "id": "9b57ec5a",
   "metadata": {},
   "outputs": [],
   "source": [
    "clusters = np.load('/path/to/the/clusters.npy', allow_pickle=True)\n",
    "vectors=clusters[()]['x']\n",
    "labels=clusters[()]['y']"
   ]
  },
  {
   "cell_type": "code",
   "execution_count": null,
   "id": "697e21e0",
   "metadata": {},
   "outputs": [],
   "source": [
    "# Number of clusters in labels, ignoring noise if present.\n",
    "n_clusters_ = len(set(labels)) - (1 if -1 in labels else 0)\n",
    "n_noise_ = list(labels).count(-1)\n",
    "print(\"Estimated number of clusters: %d\" % n_clusters_)\n",
    "print(\"Estimated number of noise points: %d\" % n_noise_)"
   ]
  },
  {
   "cell_type": "code",
   "execution_count": null,
   "id": "8d5f347f",
   "metadata": {},
   "outputs": [],
   "source": [
    "neigh = KNeighborsClassifier(n_neighbors=10)\n",
    "neigh.fit(vectors, labels)"
   ]
  },
  {
   "cell_type": "code",
   "execution_count": null,
   "id": "d1e153a4",
   "metadata": {},
   "outputs": [],
   "source": [
    "def choose_random_rows(an_array, n_samples):\n",
    "    number_of_rows = an_array.shape[0]\n",
    "    random_indices = np.random.choice(number_of_rows, size=n_samples, replace=False)\n",
    "    random_rows = an_array[random_indices, :]\n",
    "    return random_rows"
   ]
  },
  {
   "cell_type": "code",
   "execution_count": null,
   "id": "4996ff8d",
   "metadata": {},
   "outputs": [],
   "source": [
    "X = choose_random_rows(vectors,5000)\n",
    "n_components=X.shape[1]"
   ]
  },
  {
   "cell_type": "code",
   "execution_count": null,
   "id": "8bcc83dc",
   "metadata": {},
   "outputs": [],
   "source": [
    "if n_components == 2:\n",
    "    fig = plt.figure(figsize=(8,8))\n",
    "    ax = fig.add_subplot()\n",
    "    ax.scatter(X[:,0],X[:,1])\n",
    "    ax.scatter(singular_sample[0,0],\n",
    "               singular_sample[0,1],\n",
    "               s=150\n",
    "              )\n",
    "elif n_components == 3:\n",
    "    fig = plt.figure(figsize=(8,8))\n",
    "    #ax = fig.add_subplot(projection='3d')\n",
    "    ax = Axes3D(fig)\n",
    "    ax.scatter(X[:,0], X[:,1], X[:,2])\n",
    "    ax.scatter(\n",
    "        singular_sample[0,0],\n",
    "        singular_sample[0,1],\n",
    "        singular_sample[0,2],\n",
    "        s=60\n",
    "    )"
   ]
  },
  {
   "cell_type": "code",
   "execution_count": null,
   "id": "95273148",
   "metadata": {},
   "outputs": [],
   "source": [
    "label_predictions=neigh.predict(X)\n",
    "core_samples_mask = np.zeros_like(label_predictions, dtype=bool)\n",
    "core_samples_mask[label_predictions != -1] = True\n",
    "n_noise_points = list(label_predictions).count(-1)"
   ]
  },
  {
   "cell_type": "code",
   "execution_count": null,
   "id": "0d10e6ce",
   "metadata": {},
   "outputs": [],
   "source": [
    "# Black removed and is used for noise instead.\n",
    "print_outliers=True\n",
    "unique_labels = set(labels)\n",
    "colors = [plt.cm.Spectral(each) for each in np.linspace(0, 1, len(unique_labels))]\n",
    "if n_components == 2:\n",
    "    fig = plt.figure(figsize=(10,10))\n",
    "    ax = fig.add_subplot(111)\n",
    "    for k, col in zip(unique_labels, colors):\n",
    "        if k == -1:\n",
    "            # Black used for noise.\n",
    "            col = [0, 0, 0, 1]\n",
    "\n",
    "        class_member_mask = label_predictions == k\n",
    "        #class_member_mask = labels == k\n",
    "        xy = X[class_member_mask & core_samples_mask]\n",
    "        ax.plot(\n",
    "            xy[:, 0],\n",
    "            xy[:, 1],\n",
    "            \"o\",\n",
    "            markerfacecolor=tuple(col),\n",
    "            markeredgecolor=\"k\",\n",
    "            markersize=14,\n",
    "        )\n",
    "\n",
    "        if print_outliers:\n",
    "            xy = X[class_member_mask & ~core_samples_mask]\n",
    "            ax.plot(\n",
    "                xy[:, 0],\n",
    "                xy[:, 1],\n",
    "                \"o\",\n",
    "                markerfacecolor=tuple(col),\n",
    "                markeredgecolor=\"k\",\n",
    "                markersize=6,\n",
    "            )\n",
    "    \n",
    "    ax.plot(\n",
    "        singular_sample[0,0],\n",
    "        singular_sample[0,1],\n",
    "        \"o\",\n",
    "        markerfacecolor=\"k\",\n",
    "        markersize=20,\n",
    "    )\n",
    "\n",
    "elif n_components == 3:\n",
    "    fig = plt.figure(figsize=(10,10))\n",
    "    ax = fig.add_subplot(111, projection='3d')\n",
    "    for k, col in zip(unique_labels, colors):\n",
    "        if k == -1:\n",
    "            # Black used for noise.\n",
    "            col = [0, 0, 0, 1]\n",
    "\n",
    "        class_member_mask = label_predictions == k\n",
    "        #class_member_mask = labels == k\n",
    "        xyz = X[class_member_mask & core_samples_mask]\n",
    "        ax.scatter(\n",
    "            xyz[:, 0],\n",
    "            xyz[:, 1],\n",
    "            xyz[:, 2],\n",
    "            \"o\",\n",
    "            c=[col],\n",
    "            s=200,\n",
    "        )\n",
    "\n",
    "        if print_outliers:\n",
    "            xyz = X[class_member_mask & ~core_samples_mask]\n",
    "            ax.scatter(\n",
    "                xyz[:, 0],\n",
    "                xyz[:, 1],\n",
    "                xyz[:, 2],\n",
    "                \"o\",\n",
    "                c=[col],\n",
    "                s=100,\n",
    "            )\n",
    "    \n",
    "    col = [1, 0, 0, 1]\n",
    "    ax.scatter(\n",
    "        singular_sample[0,0],\n",
    "        singular_sample[0,1],\n",
    "        singular_sample[0,2],\n",
    "        \"o\",\n",
    "        c=[col],\n",
    "        s=300,\n",
    "    )\n",
    "\n",
    "string0 = \"Estimated number of clusters: {}.\\n\"\n",
    "string1 = \"Estimated number of noise points during training: {}.\\n\"\n",
    "string2 = \"Number of noise points during inference: {}.\\n\"\n",
    "string3 = \"singular sample is of class: : {}.\\n\"\n",
    "string = string0 + string1 + string2 #+ string3\n",
    "plt.title(string .format(n_clusters_, n_noise_, n_noise_points, neigh.predict(singular_sample)[0]))\n",
    "\n",
    "plt.show()\n",
    "\n",
    "print(string .format(n_clusters_, n_noise_, n_noise_points, neigh.predict(singular_sample)[0]))"
   ]
  },
  {
   "cell_type": "code",
   "execution_count": null,
   "id": "e4a79ae2",
   "metadata": {},
   "outputs": [],
   "source": []
  }
 ],
 "metadata": {
  "kernelspec": {
   "display_name": "Python 3",
   "language": "python",
   "name": "python3"
  },
  "language_info": {
   "codemirror_mode": {
    "name": "ipython",
    "version": 3
   },
   "file_extension": ".py",
   "mimetype": "text/x-python",
   "name": "python",
   "nbconvert_exporter": "python",
   "pygments_lexer": "ipython3",
   "version": "3.8.10"
  }
 },
 "nbformat": 4,
 "nbformat_minor": 5
}
